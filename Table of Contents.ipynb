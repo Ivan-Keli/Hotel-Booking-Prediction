{
 "cells": [
  {
   "cell_type": "markdown",
   "metadata": {},
   "source": [
    "<a id = '0'></a>\n",
    "<p style = \"font-size : 35px; font-family : 'Times New Roman'; text-align : center; border-radius: 5px 5px;\"><strong>Table of Contents</strong></p> \n",
    "\n",
    "* [1. Exploratory Data Analysis (EDA)](#2.0)\n",
    "    * [From where the most guests are coming ?](#2.1)\n",
    "    * [How much do guests pay for a room per night?](#2.2)\n",
    "    * [How does the price vary per night over the year?](#2.3)\n",
    "    * [Which are the most busy months?](#2.4)\n",
    "    * [How long do people stay at the hotels?](#2.5)\n",
    "    \n",
    "* [2. Data Pre-Processing](#3.0)\n",
    "* [3. Model Building](#4.0)\n",
    "    * [i. Logistic Regression](#4.1)\n",
    "    * [ii. KNN](#4.2)\n",
    "    * [iii. Decision Tree Classifier](#4.3)\n",
    "    * [iv. Random Forest Classifier](#4.4)\n",
    "    * [v. Ada Boost Classifier](#4.5)\n",
    "    * [vi. Gradient Boosting Classifier](#4.6)\n",
    "    * [vii. XgBoost Classifier](#4.7)\n",
    "    * [viii. Cat Boost Classifier](#4.8)\n",
    "    * [xi. Extra Trees Classifier](#4.9)\n",
    "    * [x. LGBM Classifier](#4.10)\n",
    "    * [xi. Voting Classifier](#4.11)\n",
    "    * [xii. ANN](#4.12)\n",
    "\n",
    "* [Models Comparison](#5.0)\n"
   ]
  }
 ],
 "metadata": {
  "kernelspec": {
   "display_name": "base",
   "language": "python",
   "name": "python3"
  },
  "language_info": {
   "codemirror_mode": {
    "name": "ipython",
    "version": 3
   },
   "file_extension": ".py",
   "mimetype": "text/x-python",
   "name": "python",
   "nbconvert_exporter": "python",
   "pygments_lexer": "ipython3",
   "version": "3.11.7"
  }
 },
 "nbformat": 4,
 "nbformat_minor": 2
}
